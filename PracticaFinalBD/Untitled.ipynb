{
 "cells": [
  {
   "cell_type": "markdown",
   "id": "6ecd936b",
   "metadata": {},
   "source": [
    "# Clustering Metodo K- Means"
   ]
  },
  {
   "cell_type": "code",
   "execution_count": 2,
   "id": "2ff408fc",
   "metadata": {},
   "outputs": [],
   "source": [
    "import numpy as np\n",
    "import pandas as pd\n",
    "import seaborn as sb\n",
    "import matplotlib.pyplot as plt\n",
    "from sklearn.cluster import KMeans\n",
    "from mpl_toolkits.mplot3d import Axes3D\n",
    "from sklearn.metrics import pairwise_distances_argmin_min"
   ]
  },
  {
   "cell_type": "markdown",
   "id": "9600f7b9",
   "metadata": {},
   "source": [
    "### Importacion de archivo .csv"
   ]
  },
  {
   "cell_type": "code",
   "execution_count": 3,
   "id": "a04f20e5",
   "metadata": {
    "scrolled": true
   },
   "outputs": [],
   "source": [
    "clientes=pd.read_csv(r\"C:\\Users\\Uriel Xool\\Documents\\Ingenieria\\PracticaFinalBD\\Salario.csv\")"
   ]
  },
  {
   "cell_type": "code",
   "execution_count": 4,
   "id": "d2c87820",
   "metadata": {
    "scrolled": true
   },
   "outputs": [
    {
     "data": {
      "text/html": [
       "<div>\n",
       "<style scoped>\n",
       "    .dataframe tbody tr th:only-of-type {\n",
       "        vertical-align: middle;\n",
       "    }\n",
       "\n",
       "    .dataframe tbody tr th {\n",
       "        vertical-align: top;\n",
       "    }\n",
       "\n",
       "    .dataframe thead th {\n",
       "        text-align: right;\n",
       "    }\n",
       "</style>\n",
       "<table border=\"1\" class=\"dataframe\">\n",
       "  <thead>\n",
       "    <tr style=\"text-align: right;\">\n",
       "      <th></th>\n",
       "      <th>yearID</th>\n",
       "      <th>teamID</th>\n",
       "      <th>lgID</th>\n",
       "      <th>playerID</th>\n",
       "      <th>salary</th>\n",
       "    </tr>\n",
       "  </thead>\n",
       "  <tbody>\n",
       "    <tr>\n",
       "      <th>0</th>\n",
       "      <td>1985</td>\n",
       "      <td>ATL</td>\n",
       "      <td>NL</td>\n",
       "      <td>barkele01</td>\n",
       "      <td>870000</td>\n",
       "    </tr>\n",
       "    <tr>\n",
       "      <th>1</th>\n",
       "      <td>1985</td>\n",
       "      <td>ATL</td>\n",
       "      <td>NL</td>\n",
       "      <td>bedrost01</td>\n",
       "      <td>550000</td>\n",
       "    </tr>\n",
       "    <tr>\n",
       "      <th>2</th>\n",
       "      <td>1985</td>\n",
       "      <td>ATL</td>\n",
       "      <td>NL</td>\n",
       "      <td>benedbr01</td>\n",
       "      <td>545000</td>\n",
       "    </tr>\n",
       "    <tr>\n",
       "      <th>3</th>\n",
       "      <td>1985</td>\n",
       "      <td>ATL</td>\n",
       "      <td>NL</td>\n",
       "      <td>campri01</td>\n",
       "      <td>633333</td>\n",
       "    </tr>\n",
       "    <tr>\n",
       "      <th>4</th>\n",
       "      <td>1985</td>\n",
       "      <td>ATL</td>\n",
       "      <td>NL</td>\n",
       "      <td>ceronri01</td>\n",
       "      <td>625000</td>\n",
       "    </tr>\n",
       "  </tbody>\n",
       "</table>\n",
       "</div>"
      ],
      "text/plain": [
       "   yearID teamID lgID   playerID  salary\n",
       "0    1985    ATL   NL  barkele01  870000\n",
       "1    1985    ATL   NL  bedrost01  550000\n",
       "2    1985    ATL   NL  benedbr01  545000\n",
       "3    1985    ATL   NL   campri01  633333\n",
       "4    1985    ATL   NL  ceronri01  625000"
      ]
     },
     "execution_count": 4,
     "metadata": {},
     "output_type": "execute_result"
    }
   ],
   "source": [
    "clientes.head()"
   ]
  },
  {
   "cell_type": "code",
   "execution_count": 5,
   "id": "6bcaa1d8",
   "metadata": {
    "scrolled": true
   },
   "outputs": [
    {
     "name": "stdout",
     "output_type": "stream",
     "text": [
      "<class 'pandas.core.frame.DataFrame'>\n",
      "RangeIndex: 23141 entries, 0 to 23140\n",
      "Data columns (total 5 columns):\n",
      " #   Column    Non-Null Count  Dtype \n",
      "---  ------    --------------  ----- \n",
      " 0   yearID    23141 non-null  int64 \n",
      " 1   teamID    23141 non-null  object\n",
      " 2   lgID      23141 non-null  object\n",
      " 3   playerID  23141 non-null  object\n",
      " 4   salary    23141 non-null  int64 \n",
      "dtypes: int64(2), object(3)\n",
      "memory usage: 904.1+ KB\n"
     ]
    }
   ],
   "source": [
    "clientes.info()"
   ]
  },
  {
   "cell_type": "markdown",
   "id": "68d32214",
   "metadata": {},
   "source": [
    "### Saber cuantos registros tenemos"
   ]
  },
  {
   "cell_type": "code",
   "execution_count": 7,
   "id": "405f6eb1",
   "metadata": {},
   "outputs": [
    {
     "name": "stdout",
     "output_type": "stream",
     "text": [
      "playerID\n",
      "aardsda01    7\n",
      "aasedo01     4\n",
      "abadan01     1\n",
      "abadfe01     2\n",
      "abbotje01    4\n",
      "            ..\n",
      "zuberjo01    1\n",
      "zuletju01    1\n",
      "zumayjo01    6\n",
      "zupcibo01    3\n",
      "zuvelpa01    1\n",
      "Length: 4513, dtype: int64\n"
     ]
    }
   ],
   "source": [
    "print(clientes.groupby('playerID').size())"
   ]
  },
  {
   "cell_type": "markdown",
   "id": "29ed0bdd",
   "metadata": {},
   "source": [
    "## Visualizacion de los datos"
   ]
  },
  {
   "cell_type": "code",
   "execution_count": 12,
   "id": "52e6973c",
   "metadata": {},
   "outputs": [
    {
     "data": {
      "image/png": "[encoded data removed]",
      "text/plain": [
       "<Figure size 432x288 with 1 Axes>"
      ]
     },
     "metadata": {
      "needs_background": "light"
     },
     "output_type": "display_data"
    }
   ],
   "source": [
    "clientes.drop(['salary'], axis=1).hist()\n",
    "plt.show()"
   ]
  },
  {
   "cell_type": "markdown",
   "id": "bc78528d",
   "metadata": {},
   "source": [
    "### Seleccionamos su dimension "
   ]
  },
  {
   "cell_type": "code",
   "execution_count": 21,
   "id": "eca9aeb2",
   "metadata": {},
   "outputs": [
    {
     "data": {
      "text/plain": [
       "<seaborn.axisgrid.PairGrid at 0x1e614d32bf0>"
      ]
     },
     "execution_count": 21,
     "metadata": {},
     "output_type": "execute_result"
    },
    {
     "data": {
      "image/png": "[encoded data removed]",
      "text/plain": [
       "<Figure size 266x216 with 2 Axes>"
      ]
     },
     "metadata": {
      "needs_background": "light"
     },
     "output_type": "display_data"
    }
   ],
   "source": [
    "sb.pairplot(clientes.dropna(),\n",
    "hue='playerID',height=3,vars=[\"salary\"],kind='scatter')"
   ]
  },
  {
   "cell_type": "markdown",
   "id": "27c237d7",
   "metadata": {},
   "source": [
    "### Aplicamos el metodo K-MEANS"
   ]
  },
  {
   "cell_type": "code",
   "execution_count": 66,
   "id": "b41e0fff",
   "metadata": {},
   "outputs": [
    {
     "name": "stdout",
     "output_type": "stream",
     "text": [
      "[[1998.85599513]\n",
      " [1989.85277066]\n",
      " [2008.01131975]]\n"
     ]
    }
   ],
   "source": [
    "X = np.array(clientes[[\"yearID\"]])\n",
    "X.shape\n",
    "kmeans = KMeans(n_clusters=3).fit(X)\n",
    "centroides = kmeans.cluster_centers_\n",
    "etiquetas = kmeans.labels_\n",
    "print(centroides)\n"
   ]
  },
  {
   "cell_type": "code",
   "execution_count": 67,
   "id": "654f3752",
   "metadata": {
    "scrolled": false
   },
   "outputs": [
    {
     "data": {
      "image/png": "[encoded data removed]",
      "text/plain": [
       "<Figure size 432x288 with 1 Axes>"
      ]
     },
     "metadata": {
      "needs_background": "light"
     },
     "output_type": "display_data"
    }
   ],
   "source": [
    "plt.plot(X[etiquetas==0,0],X[etiquetas==0,0],'r.', label='cluster 1')\n",
    "plt.plot(X[etiquetas==1,0],X[etiquetas==1,0],'b.', label='cluster 2')\n",
    "plt.plot(X[etiquetas==2,0],X[etiquetas==2,0],'y.', label='cluster 3')\n",
    "\n",
    "\n",
    "\n",
    "plt.plot(centroides[:,0],centroides[:,0],'mo',markersize=8, label='centroides')\n",
    "\n",
    "plt.legend(loc='best')\n",
    "plt.show()"
   ]
  },
  {
   "cell_type": "markdown",
   "id": "e194ac08",
   "metadata": {},
   "source": [
    "### Clusters de las edades\n",
    "##### observamos que se marcan 3 grupos con sus respectivos datos, mientras que los otros colores no tienen un valor, estan vacios"
   ]
  },
  {
   "cell_type": "code",
   "execution_count": 72,
   "id": "e407ca69",
   "metadata": {},
   "outputs": [
    {
     "data": {
      "text/html": [
       "<div>\n",
       "<style scoped>\n",
       "    .dataframe tbody tr th:only-of-type {\n",
       "        vertical-align: middle;\n",
       "    }\n",
       "\n",
       "    .dataframe tbody tr th {\n",
       "        vertical-align: top;\n",
       "    }\n",
       "\n",
       "    .dataframe thead th {\n",
       "        text-align: right;\n",
       "    }\n",
       "</style>\n",
       "<table border=\"1\" class=\"dataframe\">\n",
       "  <thead>\n",
       "    <tr style=\"text-align: right;\">\n",
       "      <th></th>\n",
       "      <th>color</th>\n",
       "      <th>cantidad</th>\n",
       "    </tr>\n",
       "  </thead>\n",
       "  <tbody>\n",
       "    <tr>\n",
       "      <th>0</th>\n",
       "      <td>blue</td>\n",
       "      <td>8215.0</td>\n",
       "    </tr>\n",
       "    <tr>\n",
       "      <th>1</th>\n",
       "      <td>red</td>\n",
       "      <td>7417.0</td>\n",
       "    </tr>\n",
       "    <tr>\n",
       "      <th>2</th>\n",
       "      <td>green</td>\n",
       "      <td>7509.0</td>\n",
       "    </tr>\n",
       "    <tr>\n",
       "      <th>3</th>\n",
       "      <td>blue</td>\n",
       "      <td>NaN</td>\n",
       "    </tr>\n",
       "    <tr>\n",
       "      <th>4</th>\n",
       "      <td>cyan</td>\n",
       "      <td>NaN</td>\n",
       "    </tr>\n",
       "    <tr>\n",
       "      <th>5</th>\n",
       "      <td>yellow</td>\n",
       "      <td>NaN</td>\n",
       "    </tr>\n",
       "    <tr>\n",
       "      <th>6</th>\n",
       "      <td>orange</td>\n",
       "      <td>NaN</td>\n",
       "    </tr>\n",
       "    <tr>\n",
       "      <th>7</th>\n",
       "      <td>black</td>\n",
       "      <td>NaN</td>\n",
       "    </tr>\n",
       "    <tr>\n",
       "      <th>8</th>\n",
       "      <td>pink</td>\n",
       "      <td>NaN</td>\n",
       "    </tr>\n",
       "  </tbody>\n",
       "</table>\n",
       "</div>"
      ],
      "text/plain": [
       "    color  cantidad\n",
       "0    blue    8215.0\n",
       "1     red    7417.0\n",
       "2   green    7509.0\n",
       "3    blue       NaN\n",
       "4    cyan       NaN\n",
       "5  yellow       NaN\n",
       "6  orange       NaN\n",
       "7   black       NaN\n",
       "8    pink       NaN"
      ]
     },
     "execution_count": 72,
     "metadata": {},
     "output_type": "execute_result"
    }
   ],
   "source": [
    "copy =  pd.DataFrame()\n",
    "copy['yearID']=clientes['yearID'].values\n",
    "copy['etiquetas'] = etiquetas;\n",
    "cantidadGrupo =  pd.DataFrame()\n",
    "cantidadGrupo['color']=colores\n",
    "cantidadGrupo['cantidad']=copy.groupby('etiquetas').size()\n",
    "cantidadGrupo"
   ]
  },
  {
   "cell_type": "markdown",
   "id": "6a87c811",
   "metadata": {},
   "source": [
    "### Buscaremos las edades que están más cerca a los centroids"
   ]
  },
  {
   "cell_type": "code",
   "execution_count": 69,
   "id": "8ea45367",
   "metadata": {},
   "outputs": [
    {
     "data": {
      "text/plain": [
       "array([11257,  3289, 18955], dtype=int64)"
      ]
     },
     "execution_count": 69,
     "metadata": {},
     "output_type": "execute_result"
    }
   ],
   "source": [
    "closest, _ = pairwise_distances_argmin_min(kmeans.cluster_centers_, X)\n",
    "closest"
   ]
  },
  {
   "cell_type": "markdown",
   "id": "4359309c",
   "metadata": {},
   "source": [
    "#### Clasificacion de las nuevas muestras (Cierre final)"
   ]
  },
  {
   "cell_type": "code",
   "execution_count": 71,
   "id": "d9fb0afe",
   "metadata": {},
   "outputs": [
    {
     "name": "stdout",
     "output_type": "stream",
     "text": [
      "1999\n",
      "1990\n",
      "2008\n"
     ]
    }
   ],
   "source": [
    "users=clientes['yearID'].values\n",
    "for row in closest:\n",
    "    print(users[row])"
   ]
  },
  {
   "cell_type": "code",
   "execution_count": null,
   "id": "9d65b734",
   "metadata": {},
   "outputs": [],
   "source": []
  }
 ],
 "metadata": {
  "kernelspec": {
   "display_name": "Python 3 (ipykernel)",
   "language": "python",
   "name": "python3"
  },
  "language_info": {
   "codemirror_mode": {
    "name": "ipython",
    "version": 3
   },
   "file_extension": ".py",
   "mimetype": "text/x-python",
   "name": "python",
   "nbconvert_exporter": "python",
   "pygments_lexer": "ipython3",
   "version": "3.10.2"
  }
 },
 "nbformat": 4,
 "nbformat_minor": 5
}
